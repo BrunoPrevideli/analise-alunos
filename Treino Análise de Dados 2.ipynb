{
 "cells": [
  {
   "cell_type": "code",
   "execution_count": 94,
   "id": "6aa51e6a-b14d-465e-abad-e785b596ecab",
   "metadata": {},
   "outputs": [],
   "source": [
    "import pandas as pd\n",
    "import numpy as np\n",
    "import matplotlib.pyplot as plt\n",
    "import seaborn as sns\n",
    "\n",
    "df_alunos = pd.read_csv('desempenho_escolar.csv')"
   ]
  },
  {
   "cell_type": "markdown",
   "id": "f11fb0dd-2d93-41be-9635-62e34821b1c9",
   "metadata": {},
   "source": [
    "1. Leitura e limpeza dos dados\n",
    "   \n",
    "- Leia o dataset e exiba as primeiras linhas.\n",
    "\n",
    "- Verifique valores nulos e duplicatas.\n",
    "\n",
    "- Limpe o dataset (trate nulos e remova duplicatas)."
   ]
  },
  {
   "cell_type": "code",
   "execution_count": 98,
   "id": "7369c29d-ee16-426d-9e73-c0fcf25b4d96",
   "metadata": {},
   "outputs": [
    {
     "name": "stdout",
     "output_type": "stream",
     "text": [
      "(505, 10)\n"
     ]
    },
    {
     "data": {
      "text/html": [
       "<div>\n",
       "<style scoped>\n",
       "    .dataframe tbody tr th:only-of-type {\n",
       "        vertical-align: middle;\n",
       "    }\n",
       "\n",
       "    .dataframe tbody tr th {\n",
       "        vertical-align: top;\n",
       "    }\n",
       "\n",
       "    .dataframe thead th {\n",
       "        text-align: right;\n",
       "    }\n",
       "</style>\n",
       "<table border=\"1\" class=\"dataframe\">\n",
       "  <thead>\n",
       "    <tr style=\"text-align: right;\">\n",
       "      <th></th>\n",
       "      <th>aluno_id</th>\n",
       "      <th>idade</th>\n",
       "      <th>sexo</th>\n",
       "      <th>nota_matematica</th>\n",
       "      <th>nota_portugues</th>\n",
       "      <th>frequencia</th>\n",
       "      <th>deficiencia</th>\n",
       "      <th>renda_familiar</th>\n",
       "      <th>regiao</th>\n",
       "      <th>escola_id</th>\n",
       "    </tr>\n",
       "  </thead>\n",
       "  <tbody>\n",
       "    <tr>\n",
       "      <th>0</th>\n",
       "      <td>1</td>\n",
       "      <td>16</td>\n",
       "      <td>F</td>\n",
       "      <td>9.0</td>\n",
       "      <td>4.2</td>\n",
       "      <td>75</td>\n",
       "      <td>Não</td>\n",
       "      <td>Alta</td>\n",
       "      <td>Nordeste</td>\n",
       "      <td>1013</td>\n",
       "    </tr>\n",
       "    <tr>\n",
       "      <th>1</th>\n",
       "      <td>2</td>\n",
       "      <td>17</td>\n",
       "      <td>F</td>\n",
       "      <td>7.1</td>\n",
       "      <td>5.5</td>\n",
       "      <td>63</td>\n",
       "      <td>Não</td>\n",
       "      <td>Alta</td>\n",
       "      <td>Sul</td>\n",
       "      <td>1019</td>\n",
       "    </tr>\n",
       "    <tr>\n",
       "      <th>2</th>\n",
       "      <td>3</td>\n",
       "      <td>15</td>\n",
       "      <td>F</td>\n",
       "      <td>3.9</td>\n",
       "      <td>9.2</td>\n",
       "      <td>83</td>\n",
       "      <td>Não</td>\n",
       "      <td>Baixa</td>\n",
       "      <td>Norte</td>\n",
       "      <td>1014</td>\n",
       "    </tr>\n",
       "    <tr>\n",
       "      <th>3</th>\n",
       "      <td>4</td>\n",
       "      <td>17</td>\n",
       "      <td>M</td>\n",
       "      <td>5.6</td>\n",
       "      <td>7.2</td>\n",
       "      <td>93</td>\n",
       "      <td>Não</td>\n",
       "      <td>Média</td>\n",
       "      <td>Sudeste</td>\n",
       "      <td>1013</td>\n",
       "    </tr>\n",
       "    <tr>\n",
       "      <th>4</th>\n",
       "      <td>5</td>\n",
       "      <td>17</td>\n",
       "      <td>F</td>\n",
       "      <td>4.2</td>\n",
       "      <td>NaN</td>\n",
       "      <td>89</td>\n",
       "      <td>Não</td>\n",
       "      <td>Baixa</td>\n",
       "      <td>Nordeste</td>\n",
       "      <td>1004</td>\n",
       "    </tr>\n",
       "  </tbody>\n",
       "</table>\n",
       "</div>"
      ],
      "text/plain": [
       "   aluno_id  idade sexo  nota_matematica  nota_portugues  frequencia  \\\n",
       "0         1     16    F              9.0             4.2          75   \n",
       "1         2     17    F              7.1             5.5          63   \n",
       "2         3     15    F              3.9             9.2          83   \n",
       "3         4     17    M              5.6             7.2          93   \n",
       "4         5     17    F              4.2             NaN          89   \n",
       "\n",
       "  deficiencia renda_familiar    regiao  escola_id  \n",
       "0         Não           Alta  Nordeste       1013  \n",
       "1         Não           Alta       Sul       1019  \n",
       "2         Não          Baixa     Norte       1014  \n",
       "3         Não          Média   Sudeste       1013  \n",
       "4         Não          Baixa  Nordeste       1004  "
      ]
     },
     "execution_count": 98,
     "metadata": {},
     "output_type": "execute_result"
    }
   ],
   "source": [
    "tamanho_sem_tratar = df_alunos.shape\n",
    "print(tamanho)\n",
    "df_alunos.head()"
   ]
  },
  {
   "cell_type": "code",
   "execution_count": 100,
   "id": "3deb7f7a-4eae-4675-b1f2-194e39c52706",
   "metadata": {},
   "outputs": [
    {
     "name": "stdout",
     "output_type": "stream",
     "text": [
      "(500, 10)\n"
     ]
    },
    {
     "data": {
      "text/html": [
       "<div>\n",
       "<style scoped>\n",
       "    .dataframe tbody tr th:only-of-type {\n",
       "        vertical-align: middle;\n",
       "    }\n",
       "\n",
       "    .dataframe tbody tr th {\n",
       "        vertical-align: top;\n",
       "    }\n",
       "\n",
       "    .dataframe thead th {\n",
       "        text-align: right;\n",
       "    }\n",
       "</style>\n",
       "<table border=\"1\" class=\"dataframe\">\n",
       "  <thead>\n",
       "    <tr style=\"text-align: right;\">\n",
       "      <th></th>\n",
       "      <th>aluno_id</th>\n",
       "      <th>idade</th>\n",
       "      <th>sexo</th>\n",
       "      <th>nota_matematica</th>\n",
       "      <th>nota_portugues</th>\n",
       "      <th>frequencia</th>\n",
       "      <th>deficiencia</th>\n",
       "      <th>renda_familiar</th>\n",
       "      <th>regiao</th>\n",
       "      <th>escola_id</th>\n",
       "    </tr>\n",
       "  </thead>\n",
       "  <tbody>\n",
       "    <tr>\n",
       "      <th>0</th>\n",
       "      <td>1</td>\n",
       "      <td>16</td>\n",
       "      <td>F</td>\n",
       "      <td>9.0</td>\n",
       "      <td>4.2</td>\n",
       "      <td>75</td>\n",
       "      <td>Não</td>\n",
       "      <td>Alta</td>\n",
       "      <td>Nordeste</td>\n",
       "      <td>1013</td>\n",
       "    </tr>\n",
       "    <tr>\n",
       "      <th>1</th>\n",
       "      <td>2</td>\n",
       "      <td>17</td>\n",
       "      <td>F</td>\n",
       "      <td>7.1</td>\n",
       "      <td>5.5</td>\n",
       "      <td>63</td>\n",
       "      <td>Não</td>\n",
       "      <td>Alta</td>\n",
       "      <td>Sul</td>\n",
       "      <td>1019</td>\n",
       "    </tr>\n",
       "    <tr>\n",
       "      <th>2</th>\n",
       "      <td>3</td>\n",
       "      <td>15</td>\n",
       "      <td>F</td>\n",
       "      <td>3.9</td>\n",
       "      <td>9.2</td>\n",
       "      <td>83</td>\n",
       "      <td>Não</td>\n",
       "      <td>Baixa</td>\n",
       "      <td>Norte</td>\n",
       "      <td>1014</td>\n",
       "    </tr>\n",
       "    <tr>\n",
       "      <th>3</th>\n",
       "      <td>4</td>\n",
       "      <td>17</td>\n",
       "      <td>M</td>\n",
       "      <td>5.6</td>\n",
       "      <td>7.2</td>\n",
       "      <td>93</td>\n",
       "      <td>Não</td>\n",
       "      <td>Média</td>\n",
       "      <td>Sudeste</td>\n",
       "      <td>1013</td>\n",
       "    </tr>\n",
       "    <tr>\n",
       "      <th>4</th>\n",
       "      <td>5</td>\n",
       "      <td>17</td>\n",
       "      <td>F</td>\n",
       "      <td>4.2</td>\n",
       "      <td>NaN</td>\n",
       "      <td>89</td>\n",
       "      <td>Não</td>\n",
       "      <td>Baixa</td>\n",
       "      <td>Nordeste</td>\n",
       "      <td>1004</td>\n",
       "    </tr>\n",
       "  </tbody>\n",
       "</table>\n",
       "</div>"
      ],
      "text/plain": [
       "   aluno_id  idade sexo  nota_matematica  nota_portugues  frequencia  \\\n",
       "0         1     16    F              9.0             4.2          75   \n",
       "1         2     17    F              7.1             5.5          63   \n",
       "2         3     15    F              3.9             9.2          83   \n",
       "3         4     17    M              5.6             7.2          93   \n",
       "4         5     17    F              4.2             NaN          89   \n",
       "\n",
       "  deficiencia renda_familiar    regiao  escola_id  \n",
       "0         Não           Alta  Nordeste       1013  \n",
       "1         Não           Alta       Sul       1019  \n",
       "2         Não          Baixa     Norte       1014  \n",
       "3         Não          Média   Sudeste       1013  \n",
       "4         Não          Baixa  Nordeste       1004  "
      ]
     },
     "execution_count": 100,
     "metadata": {},
     "output_type": "execute_result"
    }
   ],
   "source": [
    "df_alunos = df_alunos.drop_duplicates(subset=['aluno_id'])\n",
    "tamanho_pos_tratar = df_alunos.shape\n",
    "print(tamanho_pos_tratar)\n",
    "df_alunos.head()"
   ]
  },
  {
   "cell_type": "code",
   "execution_count": 102,
   "id": "1924bf39-8350-4c94-9ee1-a64f5c43772d",
   "metadata": {},
   "outputs": [
    {
     "data": {
      "text/plain": [
       "aluno_id            0\n",
       "idade               0\n",
       "sexo                0\n",
       "nota_matematica    20\n",
       "nota_portugues     10\n",
       "frequencia          0\n",
       "deficiencia         0\n",
       "renda_familiar      0\n",
       "regiao              0\n",
       "escola_id           0\n",
       "dtype: int64"
      ]
     },
     "execution_count": 102,
     "metadata": {},
     "output_type": "execute_result"
    }
   ],
   "source": [
    "df_alunos.isna().sum()"
   ]
  },
  {
   "cell_type": "code",
   "execution_count": 118,
   "id": "dd8e0ee4-fdf8-49d8-a2f4-4ef6e910995a",
   "metadata": {},
   "outputs": [],
   "source": [
    "media_arredondada_mat = round(df_alunos['nota_matematica'].mean(), 2)\n",
    "df_alunos['nota_matematica'] = df_alunos['nota_matematica'].fillna(media_arredondada_mat)"
   ]
  },
  {
   "cell_type": "code",
   "execution_count": 119,
   "id": "9621e3df-5fd5-410d-bea4-2ea4842a9564",
   "metadata": {},
   "outputs": [],
   "source": [
    "media_arredondada_port = round(df_alunos['nota_portugues'].mean(), 2)\n",
    "df_alunos['media_portugues'] = df_alunos['nota_portugues'].fillna(media_arredondada_port)"
   ]
  },
  {
   "cell_type": "code",
   "execution_count": 120,
   "id": "e3c52151-1d5a-49a1-a411-4fe514eca044",
   "metadata": {},
   "outputs": [
    {
     "data": {
      "text/plain": [
       "aluno_id           0\n",
       "idade              0\n",
       "sexo               0\n",
       "nota_matematica    0\n",
       "nota_portugues     0\n",
       "frequencia         0\n",
       "deficiencia        0\n",
       "renda_familiar     0\n",
       "regiao             0\n",
       "escola_id          0\n",
       "media_portugues    0\n",
       "dtype: int64"
      ]
     },
     "execution_count": 120,
     "metadata": {},
     "output_type": "execute_result"
    }
   ],
   "source": [
    "df_alunos.isna().sum()"
   ]
  },
  {
   "cell_type": "markdown",
   "id": "dc646cd9-ca30-4b3c-b8d6-734d1ffcf661",
   "metadata": {},
   "source": [
    "2. Análise estatística básica\n",
    "- Qual a média de nota em matemática e português?\n",
    "\n",
    "- A média muda conforme a renda familiar?\n",
    "\n",
    "- Como a frequência se distribui entre os alunos?"
   ]
  },
  {
   "cell_type": "code",
   "execution_count": 124,
   "id": "192cda20-96be-4dc4-9c3c-a325db5ded84",
   "metadata": {},
   "outputs": [
    {
     "name": "stdout",
     "output_type": "stream",
     "text": [
      "A média de matemática é 6.07 e a média de português é 6.17\n"
     ]
    }
   ],
   "source": [
    "media_att_mat = round(df_alunos['nota_matematica'].mean(), 2)\n",
    "media_att_port = round(df_alunos['nota_portugues'].mean(), 2)\n",
    "print(f'A média de matemática é {media_att_mat} e a média de português é {media_att_port}')"
   ]
  },
  {
   "cell_type": "code",
   "execution_count": 181,
   "id": "61f906f1-f8fe-4875-b715-b57cb3011ed6",
   "metadata": {},
   "outputs": [
    {
     "name": "stdout",
     "output_type": "stream",
     "text": [
      "renda_familiar\n",
      "Alta     6.127209\n",
      "Baixa    6.008449\n",
      "Média    6.129528\n",
      "Name: nota_matematica, dtype: float64\n",
      "renda_familiar\n",
      "Alta     5.932558\n",
      "Baixa    6.226204\n",
      "Média    6.151792\n",
      "Name: nota_portugues, dtype: float64\n"
     ]
    }
   ],
   "source": [
    "media_renda_mat = df_alunos.groupby('renda_familiar')['nota_matematica'].mean()\n",
    "media_renda_port = df_alunos.groupby('renda_familiar')['nota_portugues'].mean()\n",
    "print(media_renda_mat)\n",
    "print(media_renda_port)"
   ]
  },
  {
   "cell_type": "code",
   "execution_count": 148,
   "id": "5376ac08-f3f4-4d4f-8a53-0badb057dfdb",
   "metadata": {},
   "outputs": [
    {
     "data": {
      "text/plain": [
       "count    500.000000\n",
       "mean      80.156000\n",
       "std       11.614709\n",
       "min       60.000000\n",
       "25%       70.000000\n",
       "50%       80.000000\n",
       "75%       89.000000\n",
       "max      100.000000\n",
       "Name: frequencia, dtype: float64"
      ]
     },
     "execution_count": 148,
     "metadata": {},
     "output_type": "execute_result"
    }
   ],
   "source": [
    "df_alunos['frequencia'].describe()"
   ]
  },
  {
   "cell_type": "code",
   "execution_count": 152,
   "id": "cf0dfce1-91c0-40a2-8f8a-f985706eafa7",
   "metadata": {},
   "outputs": [
    {
     "data": {
      "text/html": [
       "<div>\n",
       "<style scoped>\n",
       "    .dataframe tbody tr th:only-of-type {\n",
       "        vertical-align: middle;\n",
       "    }\n",
       "\n",
       "    .dataframe tbody tr th {\n",
       "        vertical-align: top;\n",
       "    }\n",
       "\n",
       "    .dataframe thead th {\n",
       "        text-align: right;\n",
       "    }\n",
       "</style>\n",
       "<table border=\"1\" class=\"dataframe\">\n",
       "  <thead>\n",
       "    <tr style=\"text-align: right;\">\n",
       "      <th></th>\n",
       "      <th>aluno_id</th>\n",
       "      <th>idade</th>\n",
       "      <th>sexo</th>\n",
       "      <th>nota_matematica</th>\n",
       "      <th>nota_portugues</th>\n",
       "      <th>frequencia</th>\n",
       "      <th>deficiencia</th>\n",
       "      <th>renda_familiar</th>\n",
       "      <th>regiao</th>\n",
       "      <th>escola_id</th>\n",
       "      <th>media_portugues</th>\n",
       "      <th>classificacao_freq</th>\n",
       "    </tr>\n",
       "  </thead>\n",
       "  <tbody>\n",
       "    <tr>\n",
       "      <th>0</th>\n",
       "      <td>1</td>\n",
       "      <td>16</td>\n",
       "      <td>F</td>\n",
       "      <td>9.00</td>\n",
       "      <td>4.20</td>\n",
       "      <td>75</td>\n",
       "      <td>Não</td>\n",
       "      <td>Alta</td>\n",
       "      <td>Nordeste</td>\n",
       "      <td>1013</td>\n",
       "      <td>4.20</td>\n",
       "      <td>Normal</td>\n",
       "    </tr>\n",
       "    <tr>\n",
       "      <th>1</th>\n",
       "      <td>2</td>\n",
       "      <td>17</td>\n",
       "      <td>F</td>\n",
       "      <td>7.10</td>\n",
       "      <td>5.50</td>\n",
       "      <td>63</td>\n",
       "      <td>Não</td>\n",
       "      <td>Alta</td>\n",
       "      <td>Sul</td>\n",
       "      <td>1019</td>\n",
       "      <td>5.50</td>\n",
       "      <td>Baixa</td>\n",
       "    </tr>\n",
       "    <tr>\n",
       "      <th>2</th>\n",
       "      <td>3</td>\n",
       "      <td>15</td>\n",
       "      <td>F</td>\n",
       "      <td>3.90</td>\n",
       "      <td>9.20</td>\n",
       "      <td>83</td>\n",
       "      <td>Não</td>\n",
       "      <td>Baixa</td>\n",
       "      <td>Norte</td>\n",
       "      <td>1014</td>\n",
       "      <td>9.20</td>\n",
       "      <td>Alta</td>\n",
       "    </tr>\n",
       "    <tr>\n",
       "      <th>3</th>\n",
       "      <td>4</td>\n",
       "      <td>17</td>\n",
       "      <td>M</td>\n",
       "      <td>5.60</td>\n",
       "      <td>7.20</td>\n",
       "      <td>93</td>\n",
       "      <td>Não</td>\n",
       "      <td>Média</td>\n",
       "      <td>Sudeste</td>\n",
       "      <td>1013</td>\n",
       "      <td>7.20</td>\n",
       "      <td>Muito Alta</td>\n",
       "    </tr>\n",
       "    <tr>\n",
       "      <th>4</th>\n",
       "      <td>5</td>\n",
       "      <td>17</td>\n",
       "      <td>F</td>\n",
       "      <td>4.20</td>\n",
       "      <td>6.17</td>\n",
       "      <td>89</td>\n",
       "      <td>Não</td>\n",
       "      <td>Baixa</td>\n",
       "      <td>Nordeste</td>\n",
       "      <td>1004</td>\n",
       "      <td>6.17</td>\n",
       "      <td>Muito Alta</td>\n",
       "    </tr>\n",
       "    <tr>\n",
       "      <th>...</th>\n",
       "      <td>...</td>\n",
       "      <td>...</td>\n",
       "      <td>...</td>\n",
       "      <td>...</td>\n",
       "      <td>...</td>\n",
       "      <td>...</td>\n",
       "      <td>...</td>\n",
       "      <td>...</td>\n",
       "      <td>...</td>\n",
       "      <td>...</td>\n",
       "      <td>...</td>\n",
       "      <td>...</td>\n",
       "    </tr>\n",
       "    <tr>\n",
       "      <th>495</th>\n",
       "      <td>496</td>\n",
       "      <td>13</td>\n",
       "      <td>F</td>\n",
       "      <td>6.10</td>\n",
       "      <td>8.30</td>\n",
       "      <td>79</td>\n",
       "      <td>Não</td>\n",
       "      <td>Média</td>\n",
       "      <td>Norte</td>\n",
       "      <td>1012</td>\n",
       "      <td>8.30</td>\n",
       "      <td>Normal</td>\n",
       "    </tr>\n",
       "    <tr>\n",
       "      <th>496</th>\n",
       "      <td>497</td>\n",
       "      <td>15</td>\n",
       "      <td>M</td>\n",
       "      <td>6.40</td>\n",
       "      <td>5.00</td>\n",
       "      <td>77</td>\n",
       "      <td>Não</td>\n",
       "      <td>Média</td>\n",
       "      <td>Centro-Oeste</td>\n",
       "      <td>1004</td>\n",
       "      <td>5.00</td>\n",
       "      <td>Normal</td>\n",
       "    </tr>\n",
       "    <tr>\n",
       "      <th>497</th>\n",
       "      <td>498</td>\n",
       "      <td>13</td>\n",
       "      <td>F</td>\n",
       "      <td>6.07</td>\n",
       "      <td>10.60</td>\n",
       "      <td>77</td>\n",
       "      <td>Não</td>\n",
       "      <td>Baixa</td>\n",
       "      <td>Nordeste</td>\n",
       "      <td>1007</td>\n",
       "      <td>10.60</td>\n",
       "      <td>Normal</td>\n",
       "    </tr>\n",
       "    <tr>\n",
       "      <th>498</th>\n",
       "      <td>499</td>\n",
       "      <td>13</td>\n",
       "      <td>M</td>\n",
       "      <td>6.07</td>\n",
       "      <td>5.00</td>\n",
       "      <td>61</td>\n",
       "      <td>Não</td>\n",
       "      <td>Baixa</td>\n",
       "      <td>Sul</td>\n",
       "      <td>1000</td>\n",
       "      <td>5.00</td>\n",
       "      <td>Baixa</td>\n",
       "    </tr>\n",
       "    <tr>\n",
       "      <th>499</th>\n",
       "      <td>500</td>\n",
       "      <td>13</td>\n",
       "      <td>F</td>\n",
       "      <td>4.60</td>\n",
       "      <td>6.30</td>\n",
       "      <td>63</td>\n",
       "      <td>Não</td>\n",
       "      <td>Média</td>\n",
       "      <td>Sul</td>\n",
       "      <td>1019</td>\n",
       "      <td>6.30</td>\n",
       "      <td>Baixa</td>\n",
       "    </tr>\n",
       "  </tbody>\n",
       "</table>\n",
       "<p>500 rows × 12 columns</p>\n",
       "</div>"
      ],
      "text/plain": [
       "     aluno_id  idade sexo  nota_matematica  nota_portugues  frequencia  \\\n",
       "0           1     16    F             9.00            4.20          75   \n",
       "1           2     17    F             7.10            5.50          63   \n",
       "2           3     15    F             3.90            9.20          83   \n",
       "3           4     17    M             5.60            7.20          93   \n",
       "4           5     17    F             4.20            6.17          89   \n",
       "..        ...    ...  ...              ...             ...         ...   \n",
       "495       496     13    F             6.10            8.30          79   \n",
       "496       497     15    M             6.40            5.00          77   \n",
       "497       498     13    F             6.07           10.60          77   \n",
       "498       499     13    M             6.07            5.00          61   \n",
       "499       500     13    F             4.60            6.30          63   \n",
       "\n",
       "    deficiencia renda_familiar        regiao  escola_id  media_portugues  \\\n",
       "0           Não           Alta      Nordeste       1013             4.20   \n",
       "1           Não           Alta           Sul       1019             5.50   \n",
       "2           Não          Baixa         Norte       1014             9.20   \n",
       "3           Não          Média       Sudeste       1013             7.20   \n",
       "4           Não          Baixa      Nordeste       1004             6.17   \n",
       "..          ...            ...           ...        ...              ...   \n",
       "495         Não          Média         Norte       1012             8.30   \n",
       "496         Não          Média  Centro-Oeste       1004             5.00   \n",
       "497         Não          Baixa      Nordeste       1007            10.60   \n",
       "498         Não          Baixa           Sul       1000             5.00   \n",
       "499         Não          Média           Sul       1019             6.30   \n",
       "\n",
       "    classificacao_freq  \n",
       "0               Normal  \n",
       "1                Baixa  \n",
       "2                 Alta  \n",
       "3           Muito Alta  \n",
       "4           Muito Alta  \n",
       "..                 ...  \n",
       "495             Normal  \n",
       "496             Normal  \n",
       "497             Normal  \n",
       "498              Baixa  \n",
       "499              Baixa  \n",
       "\n",
       "[500 rows x 12 columns]"
      ]
     },
     "execution_count": 152,
     "metadata": {},
     "output_type": "execute_result"
    }
   ],
   "source": [
    "condicao = [\n",
    "    df_alunos['frequencia'] < 70,\n",
    "    (df_alunos['frequencia'] >= 70) & (df_alunos['frequencia'] < 80),\n",
    "    (df_alunos['frequencia'] >= 80) & (df_alunos['frequencia'] <89)\n",
    "]\n",
    "\n",
    "valores = ['Baixa', 'Normal', 'Alta']\n",
    "\n",
    "df_alunos['classificacao_freq'] = np.select(condicao, valores, default='Muito Alta')\n",
    "df_alunos"
   ]
  },
  {
   "cell_type": "code",
   "execution_count": 157,
   "id": "3b5f995b-6d8d-416b-956c-00a00da2bb03",
   "metadata": {},
   "outputs": [
    {
     "data": {
      "text/plain": [
       "classificacao_freq\n",
       "Muito Alta    139\n",
       "Alta          124\n",
       "Normal        121\n",
       "Baixa         116\n",
       "Name: count, dtype: int64"
      ]
     },
     "execution_count": 157,
     "metadata": {},
     "output_type": "execute_result"
    }
   ],
   "source": [
    "df_alunos['classificacao_freq'].value_counts()"
   ]
  },
  {
   "cell_type": "markdown",
   "id": "8f035da9-6050-4d01-9c94-5ad0ef4a4a6a",
   "metadata": {},
   "source": [
    "3. Visualizações\n",
    "- Crie um histograma das notas de matemática.\n",
    "\n",
    "- Faça um boxplot comparando a nota de português entre os sexos.\n",
    "\n",
    "- Crie um gráfico de barras com a média das notas por região."
   ]
  },
  {
   "cell_type": "code",
   "execution_count": 171,
   "id": "f2911b94-5dca-499f-b6ac-35669f23b6ac",
   "metadata": {},
   "outputs": [
    {
     "data": {
      "image/png": "[encoded data removed]",
      "text/plain": [
       "<Figure size 500x500 with 1 Axes>"
      ]
     },
     "metadata": {},
     "output_type": "display_data"
    }
   ],
   "source": [
    "sns.displot(data=df_alunos, x='nota_matematica', kde=True, bins=30)\n",
    "plt.xlabel('Notas em Matemática')\n",
    "plt.ylabel('Quantidade')\n",
    "plt.title('Quantidade de alunos por nota em matemática')\n",
    "plt.show()"
   ]
  },
  {
   "cell_type": "code",
   "execution_count": 180,
   "id": "5aace1a1-5412-4e51-8b9c-f1b76e58159a",
   "metadata": {},
   "outputs": [
    {
     "data": {
      "image/png": "[encoded data removed]",
      "text/plain": [
       "<Figure size 640x480 with 1 Axes>"
      ]
     },
     "metadata": {},
     "output_type": "display_data"
    }
   ],
   "source": [
    "sns.boxplot(data=df_alunos, y='nota_portugues', x='sexo', hue='sexo', palette={'F':'pink', 'M':'lightblue'})\n",
    "plt.ylabel('Notas em Matemática')\n",
    "plt.xlabel('Sexo')\n",
    "plt.title('Boxplot Português x Sexo')\n",
    "plt.show()"
   ]
  },
  {
   "cell_type": "code",
   "execution_count": 184,
   "id": "f56efc24-b73c-43c0-9999-eb178ba82929",
   "metadata": {},
   "outputs": [],
   "source": [
    "df_alunos['media'] = round((df_alunos['nota_matematica'] + df_alunos['nota_portugues'])/2,2)"
   ]
  },
  {
   "cell_type": "code",
   "execution_count": 185,
   "id": "eef78743-939a-4a87-876d-7ee2233323bf",
   "metadata": {},
   "outputs": [
    {
     "data": {
      "text/html": [
       "<div>\n",
       "<style scoped>\n",
       "    .dataframe tbody tr th:only-of-type {\n",
       "        vertical-align: middle;\n",
       "    }\n",
       "\n",
       "    .dataframe tbody tr th {\n",
       "        vertical-align: top;\n",
       "    }\n",
       "\n",
       "    .dataframe thead th {\n",
       "        text-align: right;\n",
       "    }\n",
       "</style>\n",
       "<table border=\"1\" class=\"dataframe\">\n",
       "  <thead>\n",
       "    <tr style=\"text-align: right;\">\n",
       "      <th></th>\n",
       "      <th>aluno_id</th>\n",
       "      <th>idade</th>\n",
       "      <th>sexo</th>\n",
       "      <th>nota_matematica</th>\n",
       "      <th>nota_portugues</th>\n",
       "      <th>frequencia</th>\n",
       "      <th>deficiencia</th>\n",
       "      <th>renda_familiar</th>\n",
       "      <th>regiao</th>\n",
       "      <th>escola_id</th>\n",
       "      <th>media_portugues</th>\n",
       "      <th>classificacao_freq</th>\n",
       "      <th>media</th>\n",
       "    </tr>\n",
       "  </thead>\n",
       "  <tbody>\n",
       "    <tr>\n",
       "      <th>0</th>\n",
       "      <td>1</td>\n",
       "      <td>16</td>\n",
       "      <td>F</td>\n",
       "      <td>9.00</td>\n",
       "      <td>4.20</td>\n",
       "      <td>75</td>\n",
       "      <td>Não</td>\n",
       "      <td>Alta</td>\n",
       "      <td>Nordeste</td>\n",
       "      <td>1013</td>\n",
       "      <td>4.20</td>\n",
       "      <td>Normal</td>\n",
       "      <td>6.60</td>\n",
       "    </tr>\n",
       "    <tr>\n",
       "      <th>1</th>\n",
       "      <td>2</td>\n",
       "      <td>17</td>\n",
       "      <td>F</td>\n",
       "      <td>7.10</td>\n",
       "      <td>5.50</td>\n",
       "      <td>63</td>\n",
       "      <td>Não</td>\n",
       "      <td>Alta</td>\n",
       "      <td>Sul</td>\n",
       "      <td>1019</td>\n",
       "      <td>5.50</td>\n",
       "      <td>Baixa</td>\n",
       "      <td>6.30</td>\n",
       "    </tr>\n",
       "    <tr>\n",
       "      <th>2</th>\n",
       "      <td>3</td>\n",
       "      <td>15</td>\n",
       "      <td>F</td>\n",
       "      <td>3.90</td>\n",
       "      <td>9.20</td>\n",
       "      <td>83</td>\n",
       "      <td>Não</td>\n",
       "      <td>Baixa</td>\n",
       "      <td>Norte</td>\n",
       "      <td>1014</td>\n",
       "      <td>9.20</td>\n",
       "      <td>Alta</td>\n",
       "      <td>6.55</td>\n",
       "    </tr>\n",
       "    <tr>\n",
       "      <th>3</th>\n",
       "      <td>4</td>\n",
       "      <td>17</td>\n",
       "      <td>M</td>\n",
       "      <td>5.60</td>\n",
       "      <td>7.20</td>\n",
       "      <td>93</td>\n",
       "      <td>Não</td>\n",
       "      <td>Média</td>\n",
       "      <td>Sudeste</td>\n",
       "      <td>1013</td>\n",
       "      <td>7.20</td>\n",
       "      <td>Muito Alta</td>\n",
       "      <td>6.40</td>\n",
       "    </tr>\n",
       "    <tr>\n",
       "      <th>4</th>\n",
       "      <td>5</td>\n",
       "      <td>17</td>\n",
       "      <td>F</td>\n",
       "      <td>4.20</td>\n",
       "      <td>6.17</td>\n",
       "      <td>89</td>\n",
       "      <td>Não</td>\n",
       "      <td>Baixa</td>\n",
       "      <td>Nordeste</td>\n",
       "      <td>1004</td>\n",
       "      <td>6.17</td>\n",
       "      <td>Muito Alta</td>\n",
       "      <td>5.18</td>\n",
       "    </tr>\n",
       "    <tr>\n",
       "      <th>...</th>\n",
       "      <td>...</td>\n",
       "      <td>...</td>\n",
       "      <td>...</td>\n",
       "      <td>...</td>\n",
       "      <td>...</td>\n",
       "      <td>...</td>\n",
       "      <td>...</td>\n",
       "      <td>...</td>\n",
       "      <td>...</td>\n",
       "      <td>...</td>\n",
       "      <td>...</td>\n",
       "      <td>...</td>\n",
       "      <td>...</td>\n",
       "    </tr>\n",
       "    <tr>\n",
       "      <th>495</th>\n",
       "      <td>496</td>\n",
       "      <td>13</td>\n",
       "      <td>F</td>\n",
       "      <td>6.10</td>\n",
       "      <td>8.30</td>\n",
       "      <td>79</td>\n",
       "      <td>Não</td>\n",
       "      <td>Média</td>\n",
       "      <td>Norte</td>\n",
       "      <td>1012</td>\n",
       "      <td>8.30</td>\n",
       "      <td>Normal</td>\n",
       "      <td>7.20</td>\n",
       "    </tr>\n",
       "    <tr>\n",
       "      <th>496</th>\n",
       "      <td>497</td>\n",
       "      <td>15</td>\n",
       "      <td>M</td>\n",
       "      <td>6.40</td>\n",
       "      <td>5.00</td>\n",
       "      <td>77</td>\n",
       "      <td>Não</td>\n",
       "      <td>Média</td>\n",
       "      <td>Centro-Oeste</td>\n",
       "      <td>1004</td>\n",
       "      <td>5.00</td>\n",
       "      <td>Normal</td>\n",
       "      <td>5.70</td>\n",
       "    </tr>\n",
       "    <tr>\n",
       "      <th>497</th>\n",
       "      <td>498</td>\n",
       "      <td>13</td>\n",
       "      <td>F</td>\n",
       "      <td>6.07</td>\n",
       "      <td>10.60</td>\n",
       "      <td>77</td>\n",
       "      <td>Não</td>\n",
       "      <td>Baixa</td>\n",
       "      <td>Nordeste</td>\n",
       "      <td>1007</td>\n",
       "      <td>10.60</td>\n",
       "      <td>Normal</td>\n",
       "      <td>8.34</td>\n",
       "    </tr>\n",
       "    <tr>\n",
       "      <th>498</th>\n",
       "      <td>499</td>\n",
       "      <td>13</td>\n",
       "      <td>M</td>\n",
       "      <td>6.07</td>\n",
       "      <td>5.00</td>\n",
       "      <td>61</td>\n",
       "      <td>Não</td>\n",
       "      <td>Baixa</td>\n",
       "      <td>Sul</td>\n",
       "      <td>1000</td>\n",
       "      <td>5.00</td>\n",
       "      <td>Baixa</td>\n",
       "      <td>5.54</td>\n",
       "    </tr>\n",
       "    <tr>\n",
       "      <th>499</th>\n",
       "      <td>500</td>\n",
       "      <td>13</td>\n",
       "      <td>F</td>\n",
       "      <td>4.60</td>\n",
       "      <td>6.30</td>\n",
       "      <td>63</td>\n",
       "      <td>Não</td>\n",
       "      <td>Média</td>\n",
       "      <td>Sul</td>\n",
       "      <td>1019</td>\n",
       "      <td>6.30</td>\n",
       "      <td>Baixa</td>\n",
       "      <td>5.45</td>\n",
       "    </tr>\n",
       "  </tbody>\n",
       "</table>\n",
       "<p>500 rows × 13 columns</p>\n",
       "</div>"
      ],
      "text/plain": [
       "     aluno_id  idade sexo  nota_matematica  nota_portugues  frequencia  \\\n",
       "0           1     16    F             9.00            4.20          75   \n",
       "1           2     17    F             7.10            5.50          63   \n",
       "2           3     15    F             3.90            9.20          83   \n",
       "3           4     17    M             5.60            7.20          93   \n",
       "4           5     17    F             4.20            6.17          89   \n",
       "..        ...    ...  ...              ...             ...         ...   \n",
       "495       496     13    F             6.10            8.30          79   \n",
       "496       497     15    M             6.40            5.00          77   \n",
       "497       498     13    F             6.07           10.60          77   \n",
       "498       499     13    M             6.07            5.00          61   \n",
       "499       500     13    F             4.60            6.30          63   \n",
       "\n",
       "    deficiencia renda_familiar        regiao  escola_id  media_portugues  \\\n",
       "0           Não           Alta      Nordeste       1013             4.20   \n",
       "1           Não           Alta           Sul       1019             5.50   \n",
       "2           Não          Baixa         Norte       1014             9.20   \n",
       "3           Não          Média       Sudeste       1013             7.20   \n",
       "4           Não          Baixa      Nordeste       1004             6.17   \n",
       "..          ...            ...           ...        ...              ...   \n",
       "495         Não          Média         Norte       1012             8.30   \n",
       "496         Não          Média  Centro-Oeste       1004             5.00   \n",
       "497         Não          Baixa      Nordeste       1007            10.60   \n",
       "498         Não          Baixa           Sul       1000             5.00   \n",
       "499         Não          Média           Sul       1019             6.30   \n",
       "\n",
       "    classificacao_freq  media  \n",
       "0               Normal   6.60  \n",
       "1                Baixa   6.30  \n",
       "2                 Alta   6.55  \n",
       "3           Muito Alta   6.40  \n",
       "4           Muito Alta   5.18  \n",
       "..                 ...    ...  \n",
       "495             Normal   7.20  \n",
       "496             Normal   5.70  \n",
       "497             Normal   8.34  \n",
       "498              Baixa   5.54  \n",
       "499              Baixa   5.45  \n",
       "\n",
       "[500 rows x 13 columns]"
      ]
     },
     "execution_count": 185,
     "metadata": {},
     "output_type": "execute_result"
    }
   ],
   "source": [
    "df_alunos"
   ]
  },
  {
   "cell_type": "code",
   "execution_count": 197,
   "id": "a8dd5440-2acd-42cf-a4f2-df23cbefe75d",
   "metadata": {},
   "outputs": [],
   "source": [
    "media_regiao = round(df_alunos.groupby('regiao')['media'].mean(),2)"
   ]
  },
  {
   "cell_type": "code",
   "execution_count": 198,
   "id": "7f7f025f-45d6-49cd-b9ad-e00a07f3a595",
   "metadata": {},
   "outputs": [
    {
     "data": {
      "text/plain": [
       "regiao\n",
       "Centro-Oeste    6.34\n",
       "Nordeste        5.97\n",
       "Norte           6.18\n",
       "Sudeste         6.00\n",
       "Sul             6.12\n",
       "Name: media, dtype: float64"
      ]
     },
     "execution_count": 198,
     "metadata": {},
     "output_type": "execute_result"
    }
   ],
   "source": [
    "media_regiao"
   ]
  },
  {
   "cell_type": "code",
   "execution_count": 202,
   "id": "ee60d723-4e00-444b-8fcf-bf43b13edd01",
   "metadata": {},
   "outputs": [
    {
     "data": {
      "text/plain": [
       "(0.0, 10.0)"
      ]
     },
     "execution_count": 202,
     "metadata": {},
     "output_type": "execute_result"
    },
    {
     "data": {
      "image/png": "[encoded data removed]",
      "text/plain": [
       "<Figure size 640x480 with 1 Axes>"
      ]
     },
     "metadata": {},
     "output_type": "display_data"
    }
   ],
   "source": [
    "plt.bar(media_regiao.index, media_regiao.values)\n",
    "plt.title('Média geral por região')\n",
    "plt.xlabel('Região')\n",
    "plt.ylabel('Média das notas')\n",
    "plt.ylim(0, 10)"
   ]
  },
  {
   "cell_type": "markdown",
   "id": "1c370d45-50de-461e-be80-deb78454b49e",
   "metadata": {},
   "source": [
    "4. Crosstab + análise\n",
    "\n",
    "Use pd.crosstab para cruzar:\n",
    "\n",
    "- Renda familiar × deficiência\n",
    "\n",
    "- Sexo × aprovação (defina aprovação como média das notas ≥ 6)"
   ]
  },
  {
   "cell_type": "code",
   "execution_count": 208,
   "id": "04003115-6d58-4c7f-bad8-9d0699a8dabb",
   "metadata": {},
   "outputs": [
    {
     "data": {
      "text/html": [
       "<div>\n",
       "<style scoped>\n",
       "    .dataframe tbody tr th:only-of-type {\n",
       "        vertical-align: middle;\n",
       "    }\n",
       "\n",
       "    .dataframe tbody tr th {\n",
       "        vertical-align: top;\n",
       "    }\n",
       "\n",
       "    .dataframe thead th {\n",
       "        text-align: right;\n",
       "    }\n",
       "</style>\n",
       "<table border=\"1\" class=\"dataframe\">\n",
       "  <thead>\n",
       "    <tr style=\"text-align: right;\">\n",
       "      <th>deficiencia</th>\n",
       "      <th>Não</th>\n",
       "      <th>Sim</th>\n",
       "    </tr>\n",
       "    <tr>\n",
       "      <th>renda_familiar</th>\n",
       "      <th></th>\n",
       "      <th></th>\n",
       "    </tr>\n",
       "  </thead>\n",
       "  <tbody>\n",
       "    <tr>\n",
       "      <th>Alta</th>\n",
       "      <td>39</td>\n",
       "      <td>4</td>\n",
       "    </tr>\n",
       "    <tr>\n",
       "      <th>Baixa</th>\n",
       "      <td>223</td>\n",
       "      <td>22</td>\n",
       "    </tr>\n",
       "    <tr>\n",
       "      <th>Média</th>\n",
       "      <td>182</td>\n",
       "      <td>30</td>\n",
       "    </tr>\n",
       "  </tbody>\n",
       "</table>\n",
       "</div>"
      ],
      "text/plain": [
       "deficiencia     Não  Sim\n",
       "renda_familiar          \n",
       "Alta             39    4\n",
       "Baixa           223   22\n",
       "Média           182   30"
      ]
     },
     "execution_count": 208,
     "metadata": {},
     "output_type": "execute_result"
    }
   ],
   "source": [
    "pd.crosstab(df_alunos['renda_familiar'],df_alunos['deficiencia'])"
   ]
  },
  {
   "cell_type": "code",
   "execution_count": 209,
   "id": "08454ff8-255e-45a6-bc51-d24f5dee0d70",
   "metadata": {},
   "outputs": [],
   "source": [
    "condicao2 = [\n",
    "    df_alunos['media'] < 6\n",
    "]\n",
    "resultado2 = ['Reprovado']\n",
    "\n",
    "df_alunos['resultado_final'] = np.select(condicao2, resultado2, default='Aprovado')"
   ]
  },
  {
   "cell_type": "code",
   "execution_count": 211,
   "id": "9f02630f-bdca-4864-8179-c31c6678df95",
   "metadata": {},
   "outputs": [
    {
     "data": {
      "text/html": [
       "<div>\n",
       "<style scoped>\n",
       "    .dataframe tbody tr th:only-of-type {\n",
       "        vertical-align: middle;\n",
       "    }\n",
       "\n",
       "    .dataframe tbody tr th {\n",
       "        vertical-align: top;\n",
       "    }\n",
       "\n",
       "    .dataframe thead th {\n",
       "        text-align: right;\n",
       "    }\n",
       "</style>\n",
       "<table border=\"1\" class=\"dataframe\">\n",
       "  <thead>\n",
       "    <tr style=\"text-align: right;\">\n",
       "      <th>resultado_final</th>\n",
       "      <th>Aprovado</th>\n",
       "      <th>Reprovado</th>\n",
       "    </tr>\n",
       "    <tr>\n",
       "      <th>sexo</th>\n",
       "      <th></th>\n",
       "      <th></th>\n",
       "    </tr>\n",
       "  </thead>\n",
       "  <tbody>\n",
       "    <tr>\n",
       "      <th>F</th>\n",
       "      <td>133</td>\n",
       "      <td>100</td>\n",
       "    </tr>\n",
       "    <tr>\n",
       "      <th>M</th>\n",
       "      <td>143</td>\n",
       "      <td>124</td>\n",
       "    </tr>\n",
       "  </tbody>\n",
       "</table>\n",
       "</div>"
      ],
      "text/plain": [
       "resultado_final  Aprovado  Reprovado\n",
       "sexo                                \n",
       "F                     133        100\n",
       "M                     143        124"
      ]
     },
     "execution_count": 211,
     "metadata": {},
     "output_type": "execute_result"
    }
   ],
   "source": [
    "pd.crosstab(df_alunos['sexo'],df_alunos['resultado_final'])"
   ]
  },
  {
   "cell_type": "markdown",
   "id": "7e56a653-1b0c-41b8-910b-b1b13c5b8022",
   "metadata": {},
   "source": [
    "5. Desafio de análise\n",
    "   \n",
    "- Há indícios de desigualdade de desempenho escolar por região ou renda?\n",
    "\n",
    "- Alunos com deficiência apresentam médias significativamente menores?\n",
    "\n",
    "- Frequência influencia o desempenho?"
   ]
  },
  {
   "cell_type": "code",
   "execution_count": 223,
   "id": "b2c65de7-4ee9-4726-b136-127dc9b86694",
   "metadata": {},
   "outputs": [
    {
     "data": {
      "text/plain": [
       "renda_familiar  regiao      \n",
       "Alta            Centro-Oeste    6.28\n",
       "                Nordeste        6.25\n",
       "                Norte           5.47\n",
       "                Sudeste         5.65\n",
       "                Sul             6.40\n",
       "Baixa           Centro-Oeste    6.46\n",
       "                Nordeste        5.74\n",
       "                Norte           6.03\n",
       "                Sudeste         6.20\n",
       "                Sul             6.11\n",
       "Média           Centro-Oeste    6.18\n",
       "                Nordeste        6.17\n",
       "                Norte           6.46\n",
       "                Sudeste         5.84\n",
       "                Sul             6.06\n",
       "Name: media, dtype: float64"
      ]
     },
     "execution_count": 223,
     "metadata": {},
     "output_type": "execute_result"
    }
   ],
   "source": [
    "round(df_alunos.groupby(['renda_familiar','regiao'])['media'].mean(),2)"
   ]
  },
  {
   "cell_type": "code",
   "execution_count": 224,
   "id": "cc5782a1-1a2b-4bce-98ec-463ffa7c1e25",
   "metadata": {},
   "outputs": [
    {
     "data": {
      "text/plain": [
       "deficiencia\n",
       "Não    6.13\n",
       "Sim    6.02\n",
       "Name: media, dtype: float64"
      ]
     },
     "execution_count": 224,
     "metadata": {},
     "output_type": "execute_result"
    }
   ],
   "source": [
    "round(df_alunos.groupby('deficiencia')['media'].mean(),2)"
   ]
  },
  {
   "cell_type": "code",
   "execution_count": 226,
   "id": "51b020bf-8261-4140-adbd-fa1f2beb0590",
   "metadata": {},
   "outputs": [
    {
     "data": {
      "text/plain": [
       "classificacao_freq\n",
       "Alta          6.46\n",
       "Baixa         6.01\n",
       "Muito Alta    6.05\n",
       "Normal        5.96\n",
       "Name: media, dtype: float64"
      ]
     },
     "execution_count": 226,
     "metadata": {},
     "output_type": "execute_result"
    }
   ],
   "source": [
    "round(df_alunos.groupby('classificacao_freq')['media'].mean(),2)"
   ]
  }
 ],
 "metadata": {
  "kernelspec": {
   "display_name": "Python 3 (ipykernel)",
   "language": "python",
   "name": "python3"
  },
  "language_info": {
   "codemirror_mode": {
    "name": "ipython",
    "version": 3
   },
   "file_extension": ".py",
   "mimetype": "text/x-python",
   "name": "python",
   "nbconvert_exporter": "python",
   "pygments_lexer": "ipython3",
   "version": "3.12.7"
  }
 },
 "nbformat": 4,
 "nbformat_minor": 5
}
